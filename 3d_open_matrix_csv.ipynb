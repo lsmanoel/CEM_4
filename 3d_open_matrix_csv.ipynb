{
  "nbformat": 4,
  "nbformat_minor": 0,
  "metadata": {
    "colab": {
      "name": "3d_open_matrix_csv.ipynb",
      "version": "0.3.2",
      "provenance": [],
      "collapsed_sections": [],
      "include_colab_link": true
    },
    "kernelspec": {
      "name": "python3",
      "display_name": "Python 3"
    }
  },
  "cells": [
    {
      "cell_type": "markdown",
      "metadata": {
        "id": "view-in-github",
        "colab_type": "text"
      },
      "source": [
        "<a href=\"https://colab.research.google.com/github/lsmanoel/CEM_4/blob/master/3d_open_matrix_csv.ipynb\" target=\"_parent\"><img src=\"https://colab.research.google.com/assets/colab-badge.svg\" alt=\"Open In Colab\"/></a>"
      ]
    },
    {
      "cell_type": "markdown",
      "metadata": {
        "id": "RJ6IZeFhU9Ds",
        "colab_type": "text"
      },
      "source": [
        "---\n",
        "## CSV from Github:\n",
        "\n",
        "https://towardsdatascience.com/3-ways-to-load-csv-files-into-colab-7c14fcbdcb92"
      ]
    },
    {
      "cell_type": "code",
      "metadata": {
        "id": "ML0iOyvjxFik",
        "colab_type": "code",
        "colab": {}
      },
      "source": [
        "import pandas as pd\n",
        "\n",
        "url_elc_plane_bottom_24_MHz = 'https://raw.githubusercontent.com/lsmanoel/CEM_4/master/13.06/placaL_medidas%20-%20%20plane_bottom_24_MHz.csv'\n",
        "url_elc_plane_bottom_500_KHz = 'https://raw.githubusercontent.com/lsmanoel/CEM_4/master/13.06/placaL_medidas%20-%20plane_bottom_500_KHz.csv'\n",
        "url_elc_plane_top_24_MHz = 'https://raw.githubusercontent.com/lsmanoel/CEM_4/master/13.06/placaL_medidas%20-%20plane_top_24_MHz.csv'\n",
        "url_elc_plane_top_500_KHz = 'https://raw.githubusercontent.com/lsmanoel/CEM_4/master/13.06/placaL_medidas%20-%20plane_top_500_KHz.csv'\n",
        "url_mag_plane_bottom_24_MHz = 'https://raw.githubusercontent.com/lsmanoel/CEM_4/master/13.06/placaL_medidas%20-%20mag_plane_bottom_24_MHz.csv'\n",
        "url_mag_plane_top_24_MHz = 'https://raw.githubusercontent.com/lsmanoel/CEM_4/master/13.06/placaL_medidas%20-%20mag_plane_top_24_MHz.csv'\n",
        "\n",
        "columns_name = ['A','B','C','D','E','F','G','H','I','J','K','L','M']\n",
        "\n",
        "pd_elc_plane_bottom_24_MHz = pd.read_csv(url_elc_plane_bottom_24_MHz, names=columns_name)\n",
        "pd_elc_plane_bottom_500_KHz = pd.read_csv(url_elc_plane_bottom_500_KHz, names=columns_name)\n",
        "pd_elc_plane_top_24_MHz = pd.read_csv(url_elc_plane_top_24_MHz, names=columns_name)\n",
        "pd_elc_plane_top_500_KHz = pd.read_csv(url_elc_plane_top_500_KHz, names=columns_name)\n",
        "pd_mag_plane_bottom_24_MHz = pd.read_csv(url_mag_plane_bottom_24_MHz, names=columns_name)\n",
        "pd_mag_plane_top_24_MHz = pd.read_csv(url_mag_plane_top_24_MHz, names=columns_name)\n",
        "\n",
        "elc_plane_bottom_24_MHz = pd_elc_plane_bottom_24_MHz.values\n",
        "elc_plane_bottom_500_KHz = pd_elc_plane_bottom_500_KHz.values\n",
        "elc_plane_top_24_MHz = pd_elc_plane_top_24_MHz.values\n",
        "elc_plane_top_500_KHz = pd_elc_plane_top_500_KHz.values\n",
        "mag_plane_bottom_24_MHz = pd_mag_plane_bottom_24_MHz.values\n",
        "mag_plane_top_24_MHz = pd_mag_plane_top_24_MHz.values\n",
        "\n",
        "elc_plane_bottom_24_MHz = -elc_plane_bottom_24_MHz\n",
        "elc_plane_bottom_500_KHz = -elc_plane_bottom_500_KHz\n",
        "elc_plane_top_24_MHz = -elc_plane_top_24_MHz\n",
        "elc_plane_top_500_KHz = -elc_plane_top_500_KHz\n",
        "mag_plane_bottom_24_MHz = -mag_plane_bottom_24_MHz\n",
        "mag_plane_top_24_MHz = -mag_plane_top_24_MHz\n"
      ],
      "execution_count": 0,
      "outputs": []
    },
    {
      "cell_type": "markdown",
      "metadata": {
        "colab_type": "text",
        "id": "66IXh094UFOG"
      },
      "source": [
        "---\n",
        "##  Plot 3d: Global Config"
      ]
    },
    {
      "cell_type": "code",
      "metadata": {
        "colab_type": "code",
        "id": "5HlCKNn6UFOP",
        "colab": {}
      },
      "source": [
        "cube_range = (0, 13)\n",
        "\n",
        "figure_size = (24,20)\n",
        "plot_layout = (2, 1)\n",
        "teta_view = 170\n",
        "phi_view = 77"
      ],
      "execution_count": 0,
      "outputs": []
    },
    {
      "cell_type": "markdown",
      "metadata": {
        "id": "j1GH6wwrW2eG",
        "colab_type": "text"
      },
      "source": [
        "##  Plot 3d: Global Config - Elétrico"
      ]
    },
    {
      "cell_type": "code",
      "metadata": {
        "id": "HCgFnI_0WuA-",
        "colab_type": "code",
        "colab": {}
      },
      "source": [
        "elc_global_scale = (10, -60)\n",
        "elc_private_scale = ( 0, -70)\n",
        "\n",
        "elc_zLim = (-70, 10)\n",
        "\n",
        "elc_cube_range = cube_range\n",
        "\n",
        "elc_figure_size = figure_size\n",
        "elc_plot_layout = plot_layout\n",
        "elc_teta_view = teta_view\n",
        "elc_phi_view = phi_view"
      ],
      "execution_count": 0,
      "outputs": []
    },
    {
      "cell_type": "markdown",
      "metadata": {
        "colab_type": "text",
        "id": "77TexHN2ThFr"
      },
      "source": [
        "##  Plot 3d: Global Config - Magnético"
      ]
    },
    {
      "cell_type": "code",
      "metadata": {
        "colab_type": "code",
        "id": "lB4TNihUThFy",
        "colab": {}
      },
      "source": [
        "mag_global_scale = (-20, -80)\n",
        "mag_private_scale = ( -25, -60)\n",
        "\n",
        "mag_zLim = (-60, -25)\n",
        "\n",
        "mag_cube_range = cube_range\n",
        "\n",
        "mag_figure_size = figure_size\n",
        "mag_plot_layout = plot_layout\n",
        "mag_teta_view = teta_view\n",
        "mag_phi_view = phi_view"
      ],
      "execution_count": 0,
      "outputs": []
    },
    {
      "cell_type": "markdown",
      "metadata": {
        "id": "1Z82_lb_G7pY",
        "colab_type": "text"
      },
      "source": [
        "---\n",
        "## Interpolate Global Config"
      ]
    },
    {
      "cell_type": "code",
      "metadata": {
        "id": "axnrYSbxG4rj",
        "colab_type": "code",
        "colab": {}
      },
      "source": [
        "s = 400\n",
        "ratio = 10\n",
        "antialiased = True\n",
        "\n",
        "elc_s = s\n",
        "elc_ratio = ratio\n",
        "elc_antialiased = antialiased\n",
        "\n",
        "mag_s = 250\n",
        "mag_ratio = ratio\n",
        "mag_antialiased = antialiased"
      ],
      "execution_count": 0,
      "outputs": []
    },
    {
      "cell_type": "markdown",
      "metadata": {
        "id": "T7jp6L3sVNwU",
        "colab_type": "text"
      },
      "source": [
        "---\n",
        "##  Plot 3d: Top - 500  KHz - Elétrico"
      ]
    },
    {
      "cell_type": "code",
      "metadata": {
        "id": "OXAt9Cozya-H",
        "colab_type": "code",
        "colab": {}
      },
      "source": [
        "pd_elc_plane_top_500_KHz"
      ],
      "execution_count": 0,
      "outputs": []
    },
    {
      "cell_type": "code",
      "metadata": {
        "id": "W569LS0eRN27",
        "colab_type": "code",
        "colab": {}
      },
      "source": [
        "Z=elc_plane_top_500_KHz"
      ],
      "execution_count": 0,
      "outputs": []
    },
    {
      "cell_type": "code",
      "metadata": {
        "id": "uEAoMmQxbdPS",
        "colab_type": "code",
        "colab": {}
      },
      "source": [
        "Z=Z[elc_cube_range[0]:elc_cube_range[1], elc_cube_range[0]:elc_cube_range[1]]\n",
        "\n",
        "import matplotlib.pyplot as plt\n",
        "from matplotlib import cm\n",
        "import numpy as np\n",
        "from mpl_toolkits.mplot3d.axes3d import get_test_data\n",
        "# This import registers the 3D projection, but is otherwise unused.\n",
        "from mpl_toolkits.mplot3d import Axes3D  # noqa: F401 unused import\n",
        "from scipy import interpolate\n",
        "\n",
        "# ==============================================================================\n",
        "fig = plt.figure(figsize=elc_figure_size)\n",
        "\n",
        "# ==============================================================================\n",
        "ax = fig.add_subplot(elc_plot_layout[0], elc_plot_layout[1], 2, projection='3d')\n",
        "ax.set_title('private_scale')\n",
        "\n",
        "X = np.arange(elc_cube_range[0], elc_cube_range[1], 1)\n",
        "Y = np.arange(elc_cube_range[0], elc_cube_range[1], 1)\n",
        "X, Y = np.meshgrid(X, Y)\n",
        "\n",
        "# ------------------------------------------------------------------------------\n",
        "# Interpolation\n",
        "tck = interpolate.bisplrep(X, Y, Z, s=elc_s)\n",
        "\n",
        "X_interp = np.arange(elc_cube_range[0], elc_cube_range[1], 1/elc_ratio)\n",
        "Y_interp = np.arange(elc_cube_range[0], elc_cube_range[1], 1/elc_ratio)\n",
        "\n",
        "X_interp, Y_interp = np.mgrid[elc_cube_range[0]:elc_cube_range[1]:ratio*cube_range[1]*1j, elc_cube_range[0]:elc_cube_range[1]:elc_ratio*elc_cube_range[1]*1j]\n",
        "\n",
        "Z_interp = interpolate.bisplev(X_interp[:,cube_range[0]], Y_interp[cube_range[0],:], tck)\n",
        "    \n",
        "surf = ax.plot_surface(X_interp, Y_interp, Z_interp, \n",
        "                       rstride=1, \n",
        "                       cstride=1, \n",
        "                       cmap ='inferno',\n",
        "                       linewidth=0, \n",
        "                       antialiased=elc_antialiased,\n",
        "                       vmax = elc_private_scale[0],\n",
        "                       vmin = elc_private_scale[1])\n",
        "\n",
        "fig.colorbar(surf, shrink=0.5, aspect=10)\n",
        "ax.set_zlim(elc_zLim[0], elc_zLim[1])\n",
        "\n",
        "ax.view_init(elc_phi_view, elc_teta_view)\n",
        "\n",
        "# ==============================================================================\n",
        "ax = fig.add_subplot(elc_plot_layout[0], elc_plot_layout[1], 1, projection='3d')\n",
        "ax.set_title('private_scale')\n",
        "\n",
        "X = np.arange(elc_cube_range[0], elc_cube_range[1], 1)\n",
        "Y = np.arange(elc_cube_range[0], elc_cube_range[1], 1)\n",
        "X, Y = np.meshgrid(X, Y)\n",
        "\n",
        "# ------------------------------------------------------------------------------\n",
        "# Interpolation\n",
        "tck = interpolate.bisplrep(X, Y, Z, s=elc_s)\n",
        "\n",
        "X_interp = np.arange(elc_cube_range[0], elc_cube_range[1], 1/elc_ratio)\n",
        "Y_interp = np.arange(elc_cube_range[0], elc_cube_range[1], 1/elc_ratio)\n",
        "\n",
        "X_interp, Y_interp = np.mgrid[elc_cube_range[0]:elc_cube_range[1]:ratio*cube_range[1]*1j, elc_cube_range[0]:elc_cube_range[1]:elc_ratio*elc_cube_range[1]*1j]\n",
        "\n",
        "Z_interp = interpolate.bisplev(X_interp[:,cube_range[0]], Y_interp[cube_range[0],:], tck)\n",
        "    \n",
        "surf = ax.plot_surface(X_interp, Y_interp, Z_interp, \n",
        "                       rstride=1, \n",
        "                       cstride=1, \n",
        "                       cmap ='inferno',\n",
        "                       linewidth=0, \n",
        "                       antialiased=elc_antialiased,\n",
        "                       vmax = elc_global_scale[0],\n",
        "                       vmin = elc_global_scale[1])\n",
        "\n",
        "fig.colorbar(surf, shrink=0.5, aspect=10)\n",
        "ax.set_zlim(elc_zLim[0], elc_zLim[1])\n",
        "\n",
        "ax.view_init(elc_phi_view, elc_teta_view)\n",
        "\n",
        "# ==============================================================================\n",
        "plt.show()"
      ],
      "execution_count": 0,
      "outputs": []
    },
    {
      "cell_type": "markdown",
      "metadata": {
        "colab_type": "text",
        "id": "MpJsusZRbsJh"
      },
      "source": [
        "---\n",
        "##  Plot 3d: Bottom - 500  KHz  - Elétrico"
      ]
    },
    {
      "cell_type": "code",
      "metadata": {
        "id": "doMaAxQ-yfAp",
        "colab_type": "code",
        "colab": {}
      },
      "source": [
        "pd_elc_plane_bottom_500_KHz"
      ],
      "execution_count": 0,
      "outputs": []
    },
    {
      "cell_type": "code",
      "metadata": {
        "id": "Do7oZCcXRa9T",
        "colab_type": "code",
        "colab": {}
      },
      "source": [
        "Z = elc_plane_bottom_500_KHz"
      ],
      "execution_count": 0,
      "outputs": []
    },
    {
      "cell_type": "code",
      "metadata": {
        "colab_type": "code",
        "id": "_nTYajcRbsJr",
        "colab": {}
      },
      "source": [
        "Z=Z[elc_cube_range[0]:elc_cube_range[1], elc_cube_range[0]:elc_cube_range[1]]\n",
        "\n",
        "import matplotlib.pyplot as plt\n",
        "from matplotlib import cm\n",
        "import numpy as np\n",
        "from mpl_toolkits.mplot3d.axes3d import get_test_data\n",
        "# This import registers the 3D projection, but is otherwise unused.\n",
        "from mpl_toolkits.mplot3d import Axes3D  # noqa: F401 unused import\n",
        "from scipy import interpolate\n",
        "\n",
        "# ==============================================================================\n",
        "fig = plt.figure(figsize=elc_figure_size)\n",
        "\n",
        "# ==============================================================================\n",
        "ax = fig.add_subplot(elc_plot_layout[0], elc_plot_layout[1], 1, projection='3d')\n",
        "ax.set_title('private_scale')\n",
        "\n",
        "X = np.arange(elc_cube_range[0], elc_cube_range[1], 1)\n",
        "Y = np.arange(elc_cube_range[0], elc_cube_range[1], 1)\n",
        "X, Y = np.meshgrid(X, Y)\n",
        "\n",
        "# ------------------------------------------------------------------------------\n",
        "# Interpolation\n",
        "tck = interpolate.bisplrep(X, Y, Z, s=elc_s)\n",
        "\n",
        "X_interp = np.arange(elc_cube_range[0], elc_cube_range[1], 1/elc_ratio)\n",
        "Y_interp = np.arange(elc_cube_range[0], elc_cube_range[1], 1/elc_ratio)\n",
        "\n",
        "X_interp, Y_interp = np.mgrid[elc_cube_range[0]:elc_cube_range[1]:ratio*cube_range[1]*1j, elc_cube_range[0]:elc_cube_range[1]:elc_ratio*elc_cube_range[1]*1j]\n",
        "\n",
        "Z_interp = interpolate.bisplev(X_interp[:,cube_range[0]], Y_interp[cube_range[0],:], tck)\n",
        "    \n",
        "surf = ax.plot_surface(X_interp, Y_interp, Z_interp, \n",
        "                       rstride=1, \n",
        "                       cstride=1, \n",
        "                       cmap ='inferno',\n",
        "                       linewidth=0, \n",
        "                       antialiased=elc_antialiased,\n",
        "                       vmax = elc_private_scale[0],\n",
        "                       vmin = elc_private_scale[1])\n",
        "\n",
        "fig.colorbar(surf, shrink=0.5, aspect=10)\n",
        "ax.set_zlim(elc_zLim[0], elc_zLim[1])\n",
        "\n",
        "ax.view_init(elc_phi_view, elc_teta_view)\n",
        "\n",
        "# ==============================================================================\n",
        "ax = fig.add_subplot(elc_plot_layout[0], elc_plot_layout[1], 2, projection='3d')\n",
        "ax.set_title('private_scale')\n",
        "\n",
        "X = np.arange(elc_cube_range[0], elc_cube_range[1], 1)\n",
        "Y = np.arange(elc_cube_range[0], elc_cube_range[1], 1)\n",
        "X, Y = np.meshgrid(X, Y)\n",
        "\n",
        "# ------------------------------------------------------------------------------\n",
        "# Interpolation\n",
        "tck = interpolate.bisplrep(X, Y, Z, s=elc_s)\n",
        "\n",
        "X_interp = np.arange(elc_cube_range[0], elc_cube_range[1], 1/elc_ratio)\n",
        "Y_interp = np.arange(elc_cube_range[0], elc_cube_range[1], 1/elc_ratio)\n",
        "\n",
        "X_interp, Y_interp = np.mgrid[elc_cube_range[0]:elc_cube_range[1]:ratio*cube_range[1]*1j, elc_cube_range[0]:elc_cube_range[1]:elc_ratio*elc_cube_range[1]*1j]\n",
        "\n",
        "Z_interp = interpolate.bisplev(X_interp[:,cube_range[0]], Y_interp[cube_range[0],:], tck)\n",
        "    \n",
        "surf = ax.plot_surface(X_interp, Y_interp, Z_interp, \n",
        "                       rstride=1, \n",
        "                       cstride=1, \n",
        "                       cmap ='inferno',\n",
        "                       linewidth=0, \n",
        "                       antialiased=elc_antialiased,\n",
        "                       vmax = elc_global_scale[0],\n",
        "                       vmin = elc_global_scale[1])\n",
        "\n",
        "fig.colorbar(surf, shrink=0.5, aspect=10)\n",
        "ax.set_zlim(elc_zLim[0], elc_zLim[1])\n",
        "\n",
        "ax.view_init(elc_phi_view, elc_teta_view)\n",
        "\n",
        "# ==============================================================================\n",
        "plt.show()"
      ],
      "execution_count": 0,
      "outputs": []
    },
    {
      "cell_type": "markdown",
      "metadata": {
        "colab_type": "text",
        "id": "kUyTIEYhXuF_"
      },
      "source": [
        "---\n",
        "##  Plot 3d: Top - 24  MHz  - Elétrico"
      ]
    },
    {
      "cell_type": "code",
      "metadata": {
        "id": "lyTDcwHT0C1r",
        "colab_type": "code",
        "colab": {}
      },
      "source": [
        "pd_elc_plane_top_24_MHz"
      ],
      "execution_count": 0,
      "outputs": []
    },
    {
      "cell_type": "code",
      "metadata": {
        "id": "2a8wVH9vRf_K",
        "colab_type": "code",
        "colab": {}
      },
      "source": [
        "Z = elc_plane_top_24_MHz"
      ],
      "execution_count": 0,
      "outputs": []
    },
    {
      "cell_type": "code",
      "metadata": {
        "colab_type": "code",
        "id": "pZwMnIPiXuGI",
        "colab": {}
      },
      "source": [
        "Z=Z[elc_cube_range[0]:elc_cube_range[1], elc_cube_range[0]:elc_cube_range[1]]\n",
        "\n",
        "import matplotlib.pyplot as plt\n",
        "from matplotlib import cm\n",
        "import numpy as np\n",
        "from mpl_toolkits.mplot3d.axes3d import get_test_data\n",
        "# This import registers the 3D projection, but is otherwise unused.\n",
        "from mpl_toolkits.mplot3d import Axes3D  # noqa: F401 unused import\n",
        "from scipy import interpolate\n",
        "\n",
        "# ==============================================================================\n",
        "fig = plt.figure(figsize=elc_figure_size)\n",
        "\n",
        "# ==============================================================================\n",
        "ax = fig.add_subplot(elc_plot_layout[0], elc_plot_layout[1], 1, projection='3d')\n",
        "ax.set_title('private_scale')\n",
        "\n",
        "X = np.arange(elc_cube_range[0], elc_cube_range[1], 1)\n",
        "Y = np.arange(elc_cube_range[0], elc_cube_range[1], 1)\n",
        "X, Y = np.meshgrid(X, Y)\n",
        "\n",
        "# ------------------------------------------------------------------------------\n",
        "# Interpolation\n",
        "tck = interpolate.bisplrep(X, Y, Z, s=elc_s)\n",
        "\n",
        "X_interp = np.arange(elc_cube_range[0], elc_cube_range[1], 1/elc_ratio)\n",
        "Y_interp = np.arange(elc_cube_range[0], elc_cube_range[1], 1/elc_ratio)\n",
        "\n",
        "X_interp, Y_interp = np.mgrid[elc_cube_range[0]:elc_cube_range[1]:ratio*cube_range[1]*1j, elc_cube_range[0]:elc_cube_range[1]:elc_ratio*elc_cube_range[1]*1j]\n",
        "\n",
        "Z_interp = interpolate.bisplev(X_interp[:,cube_range[0]], Y_interp[cube_range[0],:], tck)\n",
        "    \n",
        "surf = ax.plot_surface(X_interp, Y_interp, Z_interp, \n",
        "                       rstride=1, \n",
        "                       cstride=1, \n",
        "                       cmap ='inferno',\n",
        "                       linewidth=0, \n",
        "                       antialiased=elc_antialiased,\n",
        "                       vmax = elc_private_scale[0],\n",
        "                       vmin = elc_private_scale[1])\n",
        "\n",
        "fig.colorbar(surf, shrink=0.5, aspect=10)\n",
        "ax.set_zlim(elc_zLim[0], elc_zLim[1])\n",
        "\n",
        "ax.view_init(elc_phi_view, elc_teta_view)\n",
        "\n",
        "# ==============================================================================\n",
        "ax = fig.add_subplot(elc_plot_layout[0], elc_plot_layout[1], 2, projection='3d')\n",
        "ax.set_title('private_scale')\n",
        "\n",
        "X = np.arange(elc_cube_range[0], elc_cube_range[1], 1)\n",
        "Y = np.arange(elc_cube_range[0], elc_cube_range[1], 1)\n",
        "X, Y = np.meshgrid(X, Y)\n",
        "\n",
        "# ------------------------------------------------------------------------------\n",
        "# Interpolation\n",
        "tck = interpolate.bisplrep(X, Y, Z, s=elc_s)\n",
        "\n",
        "X_interp = np.arange(elc_cube_range[0], elc_cube_range[1], 1/elc_ratio)\n",
        "Y_interp = np.arange(elc_cube_range[0], elc_cube_range[1], 1/elc_ratio)\n",
        "\n",
        "X_interp, Y_interp = np.mgrid[elc_cube_range[0]:elc_cube_range[1]:ratio*cube_range[1]*1j, elc_cube_range[0]:elc_cube_range[1]:elc_ratio*elc_cube_range[1]*1j]\n",
        "\n",
        "Z_interp = interpolate.bisplev(X_interp[:,cube_range[0]], Y_interp[cube_range[0],:], tck)\n",
        "    \n",
        "surf = ax.plot_surface(X_interp, Y_interp, Z_interp, \n",
        "                       rstride=1, \n",
        "                       cstride=1, \n",
        "                       cmap ='inferno',\n",
        "                       linewidth=0, \n",
        "                       antialiased=elc_antialiased,\n",
        "                       vmax = elc_global_scale[0],\n",
        "                       vmin = elc_global_scale[1])\n",
        "\n",
        "fig.colorbar(surf, shrink=0.5, aspect=10)\n",
        "ax.set_zlim(elc_zLim[0], elc_zLim[1])\n",
        "\n",
        "ax.view_init(elc_phi_view, elc_teta_view)\n",
        "\n",
        "# ==============================================================================\n",
        "plt.show()"
      ],
      "execution_count": 0,
      "outputs": []
    },
    {
      "cell_type": "markdown",
      "metadata": {
        "colab_type": "text",
        "id": "bS2VlFXgb7lC"
      },
      "source": [
        "---\n",
        "##  Plot 3d: Bottom - 24  MHz  - Elétrico"
      ]
    },
    {
      "cell_type": "code",
      "metadata": {
        "id": "M8n6dn3k0GGS",
        "colab_type": "code",
        "colab": {}
      },
      "source": [
        "pd_elc_plane_bottom_24_MHz"
      ],
      "execution_count": 0,
      "outputs": []
    },
    {
      "cell_type": "code",
      "metadata": {
        "id": "VUDs6oV6SE4l",
        "colab_type": "code",
        "colab": {}
      },
      "source": [
        "Z = elc_plane_bottom_24_MHz"
      ],
      "execution_count": 0,
      "outputs": []
    },
    {
      "cell_type": "code",
      "metadata": {
        "colab_type": "code",
        "id": "ct8FaZgpb7lI",
        "colab": {}
      },
      "source": [
        "Z=Z[elc_cube_range[0]:elc_cube_range[1], elc_cube_range[0]:elc_cube_range[1]]\n",
        "\n",
        "import matplotlib.pyplot as plt\n",
        "from matplotlib import cm\n",
        "import numpy as np\n",
        "from mpl_toolkits.mplot3d.axes3d import get_test_data\n",
        "# This import registers the 3D projection, but is otherwise unused.\n",
        "from mpl_toolkits.mplot3d import Axes3D  # noqa: F401 unused import\n",
        "from scipy import interpolate\n",
        "\n",
        "# ==============================================================================\n",
        "fig = plt.figure(figsize=elc_figure_size)\n",
        "\n",
        "# ==============================================================================\n",
        "ax = fig.add_subplot(elc_plot_layout[0], elc_plot_layout[1], 1, projection='3d')\n",
        "ax.set_title('private_scale')\n",
        "\n",
        "X = np.arange(elc_cube_range[0], elc_cube_range[1], 1)\n",
        "Y = np.arange(elc_cube_range[0], elc_cube_range[1], 1)\n",
        "X, Y = np.meshgrid(X, Y)\n",
        "\n",
        "# ------------------------------------------------------------------------------\n",
        "# Interpolation\n",
        "tck = interpolate.bisplrep(X, Y, Z, s=elc_s)\n",
        "\n",
        "X_interp = np.arange(elc_cube_range[0], elc_cube_range[1], 1/elc_ratio)\n",
        "Y_interp = np.arange(elc_cube_range[0], elc_cube_range[1], 1/elc_ratio)\n",
        "\n",
        "X_interp, Y_interp = np.mgrid[elc_cube_range[0]:elc_cube_range[1]:ratio*cube_range[1]*1j, elc_cube_range[0]:elc_cube_range[1]:elc_ratio*elc_cube_range[1]*1j]\n",
        "\n",
        "Z_interp = interpolate.bisplev(X_interp[:,cube_range[0]], Y_interp[cube_range[0],:], tck)\n",
        "    \n",
        "surf = ax.plot_surface(X_interp, Y_interp, Z_interp, \n",
        "                       rstride=1, \n",
        "                       cstride=1, \n",
        "                       cmap ='inferno',\n",
        "                       linewidth=0, \n",
        "                       antialiased=elc_antialiased,\n",
        "                       vmax = elc_private_scale[0],\n",
        "                       vmin = elc_private_scale[1])\n",
        "\n",
        "fig.colorbar(surf, shrink=0.5, aspect=10)\n",
        "ax.set_zlim(elc_zLim[0], elc_zLim[1])\n",
        "\n",
        "ax.view_init(elc_phi_view, elc_teta_view)\n",
        "\n",
        "# ==============================================================================\n",
        "ax = fig.add_subplot(elc_plot_layout[0], elc_plot_layout[1], 2, projection='3d')\n",
        "ax.set_title('private_scale')\n",
        "\n",
        "X = np.arange(elc_cube_range[0], elc_cube_range[1], 1)\n",
        "Y = np.arange(elc_cube_range[0], elc_cube_range[1], 1)\n",
        "X, Y = np.meshgrid(X, Y)\n",
        "\n",
        "# ------------------------------------------------------------------------------\n",
        "# Interpolation\n",
        "tck = interpolate.bisplrep(X, Y, Z, s=elc_s)\n",
        "\n",
        "X_interp = np.arange(elc_cube_range[0], elc_cube_range[1], 1/elc_ratio)\n",
        "Y_interp = np.arange(elc_cube_range[0], elc_cube_range[1], 1/elc_ratio)\n",
        "\n",
        "X_interp, Y_interp = np.mgrid[elc_cube_range[0]:elc_cube_range[1]:ratio*cube_range[1]*1j, elc_cube_range[0]:elc_cube_range[1]:elc_ratio*elc_cube_range[1]*1j]\n",
        "\n",
        "Z_interp = interpolate.bisplev(X_interp[:,cube_range[0]], Y_interp[cube_range[0],:], tck)\n",
        "    \n",
        "surf = ax.plot_surface(X_interp, Y_interp, Z_interp, \n",
        "                       rstride=1, \n",
        "                       cstride=1, \n",
        "                       cmap ='inferno',\n",
        "                       linewidth=0, \n",
        "                       antialiased=elc_antialiased,\n",
        "                       vmax = elc_global_scale[0],\n",
        "                       vmin = elc_global_scale[1])\n",
        "\n",
        "fig.colorbar(surf, shrink=0.5, aspect=10)\n",
        "ax.set_zlim(elc_zLim[0], elc_zLim[1])\n",
        "\n",
        "ax.view_init(elc_phi_view, elc_teta_view)\n",
        "\n",
        "# ==============================================================================\n",
        "plt.show()"
      ],
      "execution_count": 0,
      "outputs": []
    },
    {
      "cell_type": "markdown",
      "metadata": {
        "colab_type": "text",
        "id": "i9HlvEN4cXOQ"
      },
      "source": [
        "---\n",
        "##  Plot 3d: Top - 24  MHz  - Magnético"
      ]
    },
    {
      "cell_type": "code",
      "metadata": {
        "id": "EL7R6g7q0Jfr",
        "colab_type": "code",
        "colab": {}
      },
      "source": [
        "pd_mag_plane_top_24_MHz"
      ],
      "execution_count": 0,
      "outputs": []
    },
    {
      "cell_type": "code",
      "metadata": {
        "id": "hLNMjhH0SBD0",
        "colab_type": "code",
        "colab": {}
      },
      "source": [
        "Z = mag_plane_top_24_MHz"
      ],
      "execution_count": 0,
      "outputs": []
    },
    {
      "cell_type": "code",
      "metadata": {
        "colab_type": "code",
        "id": "aDH3mIjNcXOW",
        "colab": {}
      },
      "source": [
        "Z=Z[mag_cube_range[0]:mag_cube_range[1], mag_cube_range[0]:mag_cube_range[1]]\n",
        "\n",
        "import matplotlib.pyplot as plt\n",
        "from matplotlib import cm\n",
        "import numpy as np\n",
        "from mpl_toolkits.mplot3d.axes3d import get_test_data\n",
        "# This import registers the 3D projection, but is otherwise unused.\n",
        "from mpl_toolkits.mplot3d import Axes3D  # noqa: F401 unused import\n",
        "from scipy import interpolate\n",
        "\n",
        "# ==============================================================================\n",
        "fig = plt.figure(figsize=mag_figure_size)\n",
        "\n",
        "# ==============================================================================\n",
        "ax = fig.add_subplot(mag_plot_layout[0], mag_plot_layout[1], 1, projection='3d')\n",
        "ax.set_title('private_scale')\n",
        "\n",
        "X = np.arange(mag_cube_range[0], mag_cube_range[1], 1)\n",
        "Y = np.arange(mag_cube_range[0], mag_cube_range[1], 1)\n",
        "X, Y = np.meshgrid(X, Y)\n",
        "\n",
        "# ------------------------------------------------------------------------------\n",
        "# Interpolation\n",
        "tck = interpolate.bisplrep(X, Y, Z, s=mag_s)\n",
        "\n",
        "X_interp = np.arange(mag_cube_range[0], mag_cube_range[1], 1/mag_ratio)\n",
        "Y_interp = np.arange(mag_cube_range[0], mag_cube_range[1], 1/mag_ratio)\n",
        "\n",
        "X_interp, Y_interp = np.mgrid[mag_cube_range[0]:mag_cube_range[1]:ratio*cube_range[1]*1j, mag_cube_range[0]:mag_cube_range[1]:mag_ratio*mag_cube_range[1]*1j]\n",
        "\n",
        "Z_interp = interpolate.bisplev(X_interp[:,mag_cube_range[0]], Y_interp[mag_cube_range[0],:], tck)\n",
        "    \n",
        "surf = ax.plot_surface(X_interp, Y_interp, Z_interp, \n",
        "                       rstride=1, \n",
        "                       cstride=1, \n",
        "                       cmap ='inferno',\n",
        "                       linewidth=0, \n",
        "                       antialiased=mag_antialiased,\n",
        "                       vmax = mag_private_scale[0],\n",
        "                       vmin = mag_private_scale[1])\n",
        "\n",
        "fig.colorbar(surf, shrink=0.5, aspect=10)\n",
        "ax.set_zlim(mag_zLim[0], mag_zLim[1])\n",
        "\n",
        "ax.view_init(mag_phi_view, mag_teta_view)\n",
        "\n",
        "# ==============================================================================\n",
        "ax = fig.add_subplot(mag_plot_layout[0], mag_plot_layout[1], 2, projection='3d')\n",
        "ax.set_title('private_scale')\n",
        "\n",
        "X = np.arange(mag_cube_range[0], mag_cube_range[1], 1)\n",
        "Y = np.arange(mag_cube_range[0], mag_cube_range[1], 1)\n",
        "X, Y = np.meshgrid(X, Y)\n",
        "\n",
        "# ------------------------------------------------------------------------------\n",
        "# Interpolation\n",
        "tck = interpolate.bisplrep(X, Y, Z, s=mag_s)\n",
        "\n",
        "X_interp = np.arange(mag_cube_range[0], mag_cube_range[1], 1/mag_ratio)\n",
        "Y_interp = np.arange(mag_cube_range[0], mag_cube_range[1], 1/mag_ratio)\n",
        "\n",
        "X_interp, Y_interp = np.mgrid[mag_cube_range[0]:mag_cube_range[1]:mag_ratio*mag_cube_range[1]*1j, mag_cube_range[0]:mag_cube_range[1]:mag_ratio*mag_cube_range[1]*1j]\n",
        "\n",
        "Z_interp = interpolate.bisplev(X_interp[:,mag_cube_range[0]], Y_interp[mag_cube_range[0],:], tck)\n",
        "    \n",
        "surf = ax.plot_surface(X_interp, Y_interp, Z_interp, \n",
        "                       rstride=1, \n",
        "                       cstride=1, \n",
        "                       cmap ='inferno',\n",
        "                       linewidth=0, \n",
        "                       antialiased=mag_antialiased,\n",
        "                       vmax = mag_global_scale[0],\n",
        "                       vmin = mag_global_scale[1])\n",
        "\n",
        "fig.colorbar(surf, shrink=0.5, aspect=10)\n",
        "ax.set_zlim(mag_zLim[0], mag_zLim[1])\n",
        "\n",
        "ax.view_init(mag_phi_view, mag_teta_view)\n",
        "\n",
        "# ==============================================================================\n",
        "plt.show()"
      ],
      "execution_count": 0,
      "outputs": []
    },
    {
      "cell_type": "markdown",
      "metadata": {
        "colab_type": "text",
        "id": "ipXO6f5_cXOn"
      },
      "source": [
        "---\n",
        "##  Plot 3d: Bottom - 24  MHz Magnético"
      ]
    },
    {
      "cell_type": "code",
      "metadata": {
        "id": "G-d4kXot0L2x",
        "colab_type": "code",
        "colab": {}
      },
      "source": [
        "pd_mag_plane_bottom_24_MHz"
      ],
      "execution_count": 0,
      "outputs": []
    },
    {
      "cell_type": "code",
      "metadata": {
        "id": "GK3fMGEgR7ja",
        "colab_type": "code",
        "colab": {}
      },
      "source": [
        "Z = mag_plane_bottom_24_MHz"
      ],
      "execution_count": 0,
      "outputs": []
    },
    {
      "cell_type": "code",
      "metadata": {
        "colab_type": "code",
        "id": "Mb951tJlcXOr",
        "colab": {}
      },
      "source": [
        "Z=Z[mag_cube_range[0]:mag_cube_range[1], mag_cube_range[0]:mag_cube_range[1]]\n",
        "\n",
        "import matplotlib.pyplot as plt\n",
        "from matplotlib import cm\n",
        "import numpy as np\n",
        "from mpl_toolkits.mplot3d.axes3d import get_test_data\n",
        "# This import registers the 3D projection, but is otherwise unused.\n",
        "from mpl_toolkits.mplot3d import Axes3D  # noqa: F401 unused import\n",
        "from scipy import interpolate\n",
        "\n",
        "# ==============================================================================\n",
        "fig = plt.figure(figsize=mag_figure_size)\n",
        "\n",
        "# ==============================================================================\n",
        "ax = fig.add_subplot(mag_plot_layout[0], mag_plot_layout[1], 1, projection='3d')\n",
        "ax.set_title('private_scale')\n",
        "\n",
        "X = np.arange(mag_cube_range[0], mag_cube_range[1], 1)\n",
        "Y = np.arange(mag_cube_range[0], mag_cube_range[1], 1)\n",
        "X, Y = np.meshgrid(X, Y)\n",
        "\n",
        "# ------------------------------------------------------------------------------\n",
        "# Interpolation\n",
        "tck = interpolate.bisplrep(X, Y, Z, s=mag_s)\n",
        "\n",
        "X_interp = np.arange(mag_cube_range[0], mag_cube_range[1], 1/mag_ratio)\n",
        "Y_interp = np.arange(mag_cube_range[0], mag_cube_range[1], 1/mag_ratio)\n",
        "\n",
        "X_interp, Y_interp = np.mgrid[mag_cube_range[0]:mag_cube_range[1]:ratio*cube_range[1]*1j, mag_cube_range[0]:mag_cube_range[1]:mag_ratio*mag_cube_range[1]*1j]\n",
        "\n",
        "Z_interp = interpolate.bisplev(X_interp[:,mag_cube_range[0]], Y_interp[mag_cube_range[0],:], tck)\n",
        "    \n",
        "surf = ax.plot_surface(X_interp, Y_interp, Z_interp, \n",
        "                       rstride=1, \n",
        "                       cstride=1, \n",
        "                       cmap ='inferno',\n",
        "                       linewidth=0, \n",
        "                       antialiased=mag_antialiased,\n",
        "                       vmax = mag_private_scale[0],\n",
        "                       vmin = mag_private_scale[1])\n",
        "\n",
        "fig.colorbar(surf, shrink=0.5, aspect=10)\n",
        "ax.set_zlim(mag_zLim[0], mag_zLim[1])\n",
        "\n",
        "ax.view_init(mag_phi_view, mag_teta_view)\n",
        "\n",
        "# ==============================================================================\n",
        "ax = fig.add_subplot(mag_plot_layout[0], mag_plot_layout[1], 2, projection='3d')\n",
        "ax.set_title('private_scale')\n",
        "\n",
        "X = np.arange(mag_cube_range[0], mag_cube_range[1], 1)\n",
        "Y = np.arange(mag_cube_range[0], mag_cube_range[1], 1)\n",
        "X, Y = np.meshgrid(X, Y)\n",
        "\n",
        "# ------------------------------------------------------------------------------\n",
        "# Interpolation\n",
        "tck = interpolate.bisplrep(X, Y, Z, s=mag_s)\n",
        "\n",
        "X_interp = np.arange(mag_cube_range[0], mag_cube_range[1], 1/mag_ratio)\n",
        "Y_interp = np.arange(mag_cube_range[0], mag_cube_range[1], 1/mag_ratio)\n",
        "\n",
        "X_interp, Y_interp = np.mgrid[mag_cube_range[0]:mag_cube_range[1]:mag_ratio*mag_cube_range[1]*1j, mag_cube_range[0]:mag_cube_range[1]:mag_ratio*mag_cube_range[1]*1j]\n",
        "\n",
        "Z_interp = interpolate.bisplev(X_interp[:,mag_cube_range[0]], Y_interp[mag_cube_range[0],:], tck)\n",
        "    \n",
        "surf = ax.plot_surface(X_interp, Y_interp, Z_interp, \n",
        "                       rstride=1, \n",
        "                       cstride=1, \n",
        "                       cmap ='inferno',\n",
        "                       linewidth=0, \n",
        "                       antialiased=mag_antialiased,\n",
        "                       vmax = mag_global_scale[0],\n",
        "                       vmin = mag_global_scale[1])\n",
        "\n",
        "fig.colorbar(surf, shrink=0.5, aspect=10)\n",
        "ax.set_zlim(mag_zLim[0], mag_zLim[1])\n",
        "\n",
        "ax.view_init(mag_phi_view, mag_teta_view)\n",
        "\n",
        "# ==============================================================================\n",
        "plt.show()"
      ],
      "execution_count": 0,
      "outputs": []
    }
  ]
}