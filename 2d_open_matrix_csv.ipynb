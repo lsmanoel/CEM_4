{
  "nbformat": 4,
  "nbformat_minor": 0,
  "metadata": {
    "colab": {
      "name": "2d_open_matrix_csv.ipynb",
      "version": "0.3.2",
      "provenance": [],
      "collapsed_sections": [],
      "include_colab_link": true
    },
    "kernelspec": {
      "name": "python3",
      "display_name": "Python 3"
    }
  },
  "cells": [
    {
      "cell_type": "markdown",
      "metadata": {
        "id": "view-in-github",
        "colab_type": "text"
      },
      "source": [
        "<a href=\"https://colab.research.google.com/github/lsmanoel/CEM_4/blob/master/2d_open_matrix_csv.ipynb\" target=\"_parent\"><img src=\"https://colab.research.google.com/assets/colab-badge.svg\" alt=\"Open In Colab\"/></a>"
      ]
    },
    {
      "cell_type": "markdown",
      "metadata": {
        "id": "RJ6IZeFhU9Ds",
        "colab_type": "text"
      },
      "source": [
        "## CSV from Github:\n",
        "\n",
        "https://towardsdatascience.com/3-ways-to-load-csv-files-into-colab-7c14fcbdcb92"
      ]
    },
    {
      "cell_type": "code",
      "metadata": {
        "id": "ML0iOyvjxFik",
        "colab_type": "code",
        "colab": {}
      },
      "source": [
        "#@CSV from Github\n",
        "import numpy as np\n",
        "import pandas as pd\n",
        "from matplotlib.ticker import IndexFormatter\n",
        "\n",
        "url_elc_plane_bottom_24_MHz = 'https://raw.githubusercontent.com/lsmanoel/CEM_4/master/13.06/placaL_medidas%20-%20%20plane_bottom_24_MHz.csv'\n",
        "url_elc_plane_bottom_500_KHz = 'https://raw.githubusercontent.com/lsmanoel/CEM_4/master/13.06/placaL_medidas%20-%20plane_bottom_500_KHz.csv'\n",
        "url_elc_plane_top_24_MHz = 'https://raw.githubusercontent.com/lsmanoel/CEM_4/master/13.06/placaL_medidas%20-%20plane_top_24_MHz.csv'\n",
        "url_elc_plane_top_500_KHz = 'https://raw.githubusercontent.com/lsmanoel/CEM_4/master/13.06/placaL_medidas%20-%20plane_top_500_KHz.csv'\n",
        "url_mag_plane_bottom_24_MHz = 'https://raw.githubusercontent.com/lsmanoel/CEM_4/master/13.06/placaL_medidas%20-%20mag_plane_bottom_24_MHz.csv'\n",
        "url_mag_plane_top_24_MHz = 'https://raw.githubusercontent.com/lsmanoel/CEM_4/master/13.06/placaL_medidas%20-%20mag_plane_top_24_MHz.csv'\n",
        "\n",
        "columns_name = ['A','B','C','D','E','F','G','H','I','J','K','L','M']\n",
        "rows_name = np.arange(1,14,1).tolist()\n",
        "xticks_formatter = IndexFormatter(columns_name)\n",
        "yticks_formatter = IndexFormatter(rows_name)\n",
        "\n",
        "pd_elc_plane_bottom_24_MHz = pd.read_csv(url_elc_plane_bottom_24_MHz, names=columns_name)\n",
        "pd_elc_plane_bottom_24_MHz = pd_elc_plane_bottom_24_MHz[pd_elc_plane_bottom_24_MHz.columns[::-1]]\n",
        "pd_elc_plane_bottom_500_KHz = pd.read_csv(url_elc_plane_bottom_500_KHz, names=columns_name)\n",
        "pd_elc_plane_bottom_500_KHz = pd_elc_plane_bottom_500_KHz[pd_elc_plane_bottom_500_KHz.columns[::-1]]\n",
        "pd_mag_plane_bottom_24_MHz = pd.read_csv(url_mag_plane_bottom_24_MHz, names=columns_name)\n",
        "pd_mag_plane_bottom_24_MHz = pd_mag_plane_bottom_24_MHz[pd_mag_plane_bottom_24_MHz.columns[::-1]]\n",
        "\n",
        "pd_elc_plane_top_24_MHz = pd.read_csv(url_elc_plane_top_24_MHz, names=columns_name)\n",
        "pd_elc_plane_top_500_KHz = pd.read_csv(url_elc_plane_top_500_KHz, names=columns_name)\n",
        "pd_mag_plane_top_24_MHz = pd.read_csv(url_mag_plane_top_24_MHz, names=columns_name)\n",
        "\n",
        "elc_plane_bottom_24_MHz = pd_elc_plane_bottom_24_MHz.values\n",
        "elc_plane_bottom_500_KHz = pd_elc_plane_bottom_500_KHz.values\n",
        "elc_plane_top_24_MHz = pd_elc_plane_top_24_MHz.values\n",
        "elc_plane_top_500_KHz = pd_elc_plane_top_500_KHz.values\n",
        "mag_plane_bottom_24_MHz = pd_mag_plane_bottom_24_MHz.values\n",
        "mag_plane_top_24_MHz = pd_mag_plane_top_24_MHz.values\n",
        "\n",
        "elc_plane_bottom_24_MHz = -elc_plane_bottom_24_MHz\n",
        "elc_plane_bottom_500_KHz = -elc_plane_bottom_500_KHz\n",
        "elc_plane_top_24_MHz = -elc_plane_top_24_MHz\n",
        "elc_plane_top_500_KHz = -elc_plane_top_500_KHz\n",
        "mag_plane_bottom_24_MHz = -mag_plane_bottom_24_MHz\n",
        "mag_plane_top_24_MHz = -mag_plane_top_24_MHz\n"
      ],
      "execution_count": 0,
      "outputs": []
    },
    {
      "cell_type": "markdown",
      "metadata": {
        "id": "j1GH6wwrW2eG",
        "colab_type": "text"
      },
      "source": [
        "---\n",
        "##  Plot 2d: Global Config"
      ]
    },
    {
      "cell_type": "code",
      "metadata": {
        "id": "HCgFnI_0WuA-",
        "colab_type": "code",
        "colab": {}
      },
      "source": [
        "cube_range = (0, 13)\n",
        "\n",
        "figure_size = (18,8)\n",
        "plot_layout = (1, 2)\n",
        "\n",
        "gap_layout = (5.5,1,1,9) # (Posição_inicial_X, Posição_inicial_Y, Largura, Altura)."
      ],
      "execution_count": 0,
      "outputs": []
    },
    {
      "cell_type": "markdown",
      "metadata": {
        "colab_type": "text",
        "id": "iDNrNJ2AiFYp"
      },
      "source": [
        "##  Plot 2d: Global Config - Elétrico"
      ]
    },
    {
      "cell_type": "code",
      "metadata": {
        "colab_type": "code",
        "id": "ZKAtQCBdiFY0",
        "colab": {}
      },
      "source": [
        "elc_global_scale = (10, -60)\n",
        "elc_private_scale = ((\n",
        "    np.max(np.array([*elc_plane_bottom_24_MHz,\n",
        "                     *elc_plane_bottom_500_KHz,\n",
        "                     *elc_plane_top_24_MHz,\n",
        "                     *elc_plane_top_500_KHz])), \n",
        "    np.min(np.array([*elc_plane_bottom_24_MHz,\n",
        "                     *elc_plane_bottom_500_KHz,\n",
        "                     *elc_plane_top_24_MHz,\n",
        "                     *elc_plane_top_500_KHz])))\n",
        ")\n",
        "\n",
        "elc_cube_range = cube_range\n",
        "\n",
        "elc_figure_size = figure_size\n",
        "elc_plot_layout = plot_layout"
      ],
      "execution_count": 0,
      "outputs": []
    },
    {
      "cell_type": "markdown",
      "metadata": {
        "colab_type": "text",
        "id": "77TexHN2ThFr"
      },
      "source": [
        "##  Plot 2d: Global Config - Magnético"
      ]
    },
    {
      "cell_type": "code",
      "metadata": {
        "colab_type": "code",
        "id": "lB4TNihUThFy",
        "colab": {}
      },
      "source": [
        "mag_global_scale = (10, -60)\n",
        "mag_private_scale = ((\n",
        "    np.max(np.array([*mag_plane_bottom_24_MHz,\n",
        "                     *mag_plane_top_24_MHz])), \n",
        "    np.min(np.array([*mag_plane_bottom_24_MHz,\n",
        "                     *mag_plane_top_24_MHz])))\n",
        ")\n",
        "\n",
        "mag_cube_range = cube_range\n",
        "\n",
        "mag_figure_size = figure_size\n",
        "mag_plot_layout = plot_layout"
      ],
      "execution_count": 0,
      "outputs": []
    },
    {
      "cell_type": "markdown",
      "metadata": {
        "id": "T7jp6L3sVNwU",
        "colab_type": "text"
      },
      "source": [
        "---\n",
        "##  Plot 2d: Top - 500  KHz - Elétrico"
      ]
    },
    {
      "cell_type": "code",
      "metadata": {
        "id": "0RQzZ0vv-Nl3",
        "colab_type": "code",
        "colab": {}
      },
      "source": [
        "pd_elc_plane_top_500_KHz"
      ],
      "execution_count": 0,
      "outputs": []
    },
    {
      "cell_type": "code",
      "metadata": {
        "id": "GWE8kER3i-45",
        "colab_type": "code",
        "colab": {}
      },
      "source": [
        "Z = elc_plane_top_500_KHz"
      ],
      "execution_count": 0,
      "outputs": []
    },
    {
      "cell_type": "code",
      "metadata": {
        "id": "uEAoMmQxbdPS",
        "colab_type": "code",
        "colab": {}
      },
      "source": [
        "Z = Z[elc_cube_range[0]:elc_cube_range[1], elc_cube_range[0]:elc_cube_range[1]]\n",
        "\n",
        "import matplotlib.pyplot as plt\n",
        "import matplotlib.patches as patches\n",
        "import numpy as np\n",
        "\n",
        "# ==============================================================================  \n",
        "fig = plt.figure(figsize=elc_figure_size)\n",
        "\n",
        "# ==============================================================================  \n",
        "ax = fig.add_subplot(elc_plot_layout[0], elc_plot_layout[1], 1)\n",
        "ax.set_title('private scale')\n",
        "\n",
        "img = ax.imshow(Z, \n",
        "                interpolation ='gaussian', \n",
        "                cmap ='inferno',\n",
        "                vmax = elc_private_scale[0],\n",
        "                vmin = elc_private_scale[1])\n",
        "\n",
        "fig.colorbar(img, ax=ax)\n",
        "\n",
        "ax.set_xlim([cube_range[0] - .5, cube_range[1] - .5])\n",
        "ax.set_ylim([cube_range[0] - .5, cube_range[1] - .5])\n",
        "\n",
        "ax.set_xticks(np.arange(cube_range[0], cube_range[1],1)) \n",
        "ax.set_yticks(np.arange(cube_range[0], cube_range[1],1)) \n",
        "\n",
        "ax.xaxis.set_major_formatter(xticks_formatter)\n",
        "ax.yaxis.set_major_formatter(yticks_formatter)\n",
        "\n",
        "ax.grid(True)\n",
        "\n",
        "# ------------------------------------------------------------------------------\n",
        "# EUT Layout\n",
        "gap = patches.Rectangle(np.array(gap_layout[:2]),\n",
        "                        gap_layout[2],\n",
        "                        gap_layout[3],\n",
        "                        linewidth=3,\n",
        "                        edgecolor='g',\n",
        "                        facecolor='none')\n",
        "ax.add_patch(gap)\n",
        "\n",
        "L_layout = [[1, 1.25], [10.75, 1.25], [10.75, 11], [10.25, 11], [10.25, 1.75], [1, 1.75]]\n",
        "L = patches.Polygon(np.array(L_layout),lw=3, ec='w',fc='none')\n",
        "ax.add_patch(L)\n",
        "\n",
        "edge = patches.Rectangle((1,1),10,10,linewidth=3,edgecolor='g',facecolor='none')\n",
        "ax.add_patch(edge)\n",
        "  \n",
        "# ==============================================================================  \n",
        "ax = fig.add_subplot(elc_plot_layout[0], elc_plot_layout[1], 2)\n",
        "ax.set_title('global scale')\n",
        "\n",
        "img = ax.imshow(Z, \n",
        "                interpolation ='gaussian', \n",
        "                cmap ='inferno',\n",
        "                vmax = elc_global_scale[0],\n",
        "                vmin = elc_global_scale[1])\n",
        "\n",
        "fig.colorbar(img, ax=ax)\n",
        "\n",
        "ax.set_xlim([cube_range[0] - .5, cube_range[1] - .5])\n",
        "ax.set_ylim([cube_range[0] - .5, cube_range[1] - .5])\n",
        "\n",
        "ax.set_yticks(np.arange(cube_range[0], cube_range[1],1)) \n",
        "ax.set_xticks(np.arange(cube_range[0], cube_range[1],1))\n",
        "\n",
        "ax.xaxis.set_major_formatter(xticks_formatter)\n",
        "ax.yaxis.set_major_formatter(yticks_formatter)\n",
        "\n",
        "ax.grid(True)\n",
        "\n",
        "# ------------------------------------------------------------------------------\n",
        "# EUT Layout\n",
        "gap = patches.Rectangle(np.array(gap_layout[:2]),\n",
        "                        gap_layout[2],\n",
        "                        gap_layout[3],\n",
        "                        linewidth=3,\n",
        "                        edgecolor='g',\n",
        "                        facecolor='none')\n",
        "ax.add_patch(gap)\n",
        "\n",
        "L_layout = [[1, 1.25], [10.75, 1.25], [10.75, 11], [10.25, 11], [10.25, 1.75], [1, 1.75]]\n",
        "L = patches.Polygon(np.array(L_layout),lw=3, ec='w',fc='none')\n",
        "ax.add_patch(L)\n",
        "\n",
        "edge = patches.Rectangle((1,1),10,10,linewidth=3,edgecolor='g',facecolor='none')\n",
        "ax.add_patch(edge)\n",
        "  \n",
        "#===============================================================================\n",
        "plt.show()\n"
      ],
      "execution_count": 0,
      "outputs": []
    },
    {
      "cell_type": "markdown",
      "metadata": {
        "colab_type": "text",
        "id": "MpJsusZRbsJh"
      },
      "source": [
        "---\n",
        "##  Plot 2d: Bottom - 500  KHz  - Elétrico"
      ]
    },
    {
      "cell_type": "code",
      "metadata": {
        "id": "ptjQt-eB5Vmy",
        "colab_type": "code",
        "colab": {}
      },
      "source": [
        "pd_elc_plane_bottom_500_KHz"
      ],
      "execution_count": 0,
      "outputs": []
    },
    {
      "cell_type": "code",
      "metadata": {
        "id": "OiuR9QkwHU9E",
        "colab_type": "code",
        "colab": {}
      },
      "source": [
        "Z = elc_plane_bottom_500_KHz"
      ],
      "execution_count": 0,
      "outputs": []
    },
    {
      "cell_type": "code",
      "metadata": {
        "colab_type": "code",
        "id": "_nTYajcRbsJr",
        "colab": {}
      },
      "source": [
        "Z = Z[elc_cube_range[0]:elc_cube_range[1], elc_cube_range[0]:elc_cube_range[1]]\n",
        "\n",
        "import matplotlib.pyplot as plt\n",
        "import numpy as np\n",
        "\n",
        "# ==============================================================================  \n",
        "fig = plt.figure(figsize=elc_figure_size)\n",
        "\n",
        "# ==============================================================================  \n",
        "ax = fig.add_subplot(elc_plot_layout[0], elc_plot_layout[1], 1)\n",
        "ax.set_title('private scale')\n",
        "\n",
        "img = ax.imshow(Z, \n",
        "                interpolation ='gaussian', \n",
        "                cmap ='inferno',\n",
        "                vmax = elc_private_scale[0],\n",
        "                vmin = elc_private_scale[1])\n",
        "\n",
        "fig.colorbar(img, ax=ax)\n",
        "\n",
        "ax.set_xlim([cube_range[0] - .5, cube_range[1] - .5])\n",
        "ax.set_ylim([cube_range[0] - .5, cube_range[1] - .5])\n",
        "\n",
        "ax.set_xticks(np.arange(cube_range[0], cube_range[1],1)) \n",
        "ax.set_yticks(np.arange(cube_range[0], cube_range[1],1)) \n",
        "\n",
        "ax.xaxis.set_major_formatter(xticks_formatter)\n",
        "ax.yaxis.set_major_formatter(yticks_formatter)\n",
        "\n",
        "ax.grid(True)\n",
        "\n",
        "# ------------------------------------------------------------------------------\n",
        "# EUT Layout\n",
        "gap = patches.Rectangle(np.array(gap_layout[:2]),\n",
        "                        gap_layout[2],\n",
        "                        gap_layout[3],\n",
        "                        linewidth=3,\n",
        "                        edgecolor='g',\n",
        "                        facecolor='none')\n",
        "ax.add_patch(gap)\n",
        "\n",
        "L_layout = [[1, 1.25], [10.75, 1.25], [10.75, 11], [10.25, 11], [10.25, 1.75], [1, 1.75]]\n",
        "L = patches.Polygon(np.array(L_layout),lw=3, ec='w',fc='none')\n",
        "ax.add_patch(L)\n",
        "\n",
        "edge = patches.Rectangle((1,1),10,10,linewidth=3,edgecolor='g',facecolor='none')\n",
        "ax.add_patch(edge)\n",
        "\n",
        "# ==============================================================================  \n",
        "ax = fig.add_subplot(elc_plot_layout[0], elc_plot_layout[1], 2)\n",
        "ax.set_title('global scale')\n",
        "\n",
        "img = ax.imshow(Z, \n",
        "                interpolation ='gaussian', \n",
        "                cmap ='inferno',\n",
        "                vmax = elc_global_scale[0],\n",
        "                vmin = elc_global_scale[1])\n",
        "\n",
        "fig.colorbar(img, ax=ax)\n",
        "\n",
        "ax.set_xlim([cube_range[0] - .5, cube_range[1] - .5])\n",
        "ax.set_ylim([cube_range[0] - .5, cube_range[1] - .5])\n",
        "\n",
        "ax.set_yticks(np.arange(cube_range[0], cube_range[1],1)) \n",
        "ax.set_xticks(np.arange(cube_range[0], cube_range[1],1))\n",
        "\n",
        "ax.xaxis.set_major_formatter(xticks_formatter)\n",
        "ax.yaxis.set_major_formatter(yticks_formatter)\n",
        "\n",
        "ax.grid(True)\n",
        "\n",
        "# ------------------------------------------------------------------------------\n",
        "# EUT Layout\n",
        "gap = patches.Rectangle(np.array(gap_layout[:2]),\n",
        "                        gap_layout[2],\n",
        "                        gap_layout[3],\n",
        "                        linewidth=3,\n",
        "                        edgecolor='g',\n",
        "                        facecolor='none')\n",
        "ax.add_patch(gap)\n",
        "\n",
        "L_layout = [[1, 1.25], [10.75, 1.25], [10.75, 11], [10.25, 11], [10.25, 1.75], [1, 1.75]]\n",
        "L = patches.Polygon(np.array(L_layout),lw=3, ec='w',fc='none')\n",
        "ax.add_patch(L)\n",
        "\n",
        "edge = patches.Rectangle((1,1),10,10,linewidth=3,edgecolor='g',facecolor='none')\n",
        "ax.add_patch(edge)\n",
        "\n",
        "#===============================================================================\n",
        "plt.show()\n"
      ],
      "execution_count": 0,
      "outputs": []
    },
    {
      "cell_type": "markdown",
      "metadata": {
        "colab_type": "text",
        "id": "kUyTIEYhXuF_"
      },
      "source": [
        "---\n",
        "##  Plot 2d: Top - 24  MHz  - Elétrico"
      ]
    },
    {
      "cell_type": "code",
      "metadata": {
        "id": "7wsGNhvy5rC_",
        "colab_type": "code",
        "colab": {}
      },
      "source": [
        "pd_elc_plane_top_24_MHz"
      ],
      "execution_count": 0,
      "outputs": []
    },
    {
      "cell_type": "code",
      "metadata": {
        "id": "JTM95s43HIvb",
        "colab_type": "code",
        "colab": {}
      },
      "source": [
        " Z = elc_plane_top_24_MHz"
      ],
      "execution_count": 0,
      "outputs": []
    },
    {
      "cell_type": "code",
      "metadata": {
        "colab_type": "code",
        "id": "pZwMnIPiXuGI",
        "colab": {}
      },
      "source": [
        "Z = Z[elc_cube_range[0]:elc_cube_range[1], elc_cube_range[0]:elc_cube_range[1]]\n",
        "\n",
        "import matplotlib.pyplot as plt\n",
        "import numpy as np\n",
        "\n",
        "# ==============================================================================  \n",
        "fig = plt.figure(figsize=elc_figure_size)\n",
        "\n",
        "# ==============================================================================  \n",
        "ax = fig.add_subplot(elc_plot_layout[0], elc_plot_layout[1], 1)\n",
        "ax.set_title('private scale')\n",
        "\n",
        "img = ax.imshow(Z, \n",
        "                interpolation ='gaussian', \n",
        "                cmap ='inferno',\n",
        "                vmax = elc_private_scale[0],\n",
        "                vmin = elc_private_scale[1])\n",
        "\n",
        "fig.colorbar(img, ax=ax)\n",
        "\n",
        "ax.set_xlim([cube_range[0] - .5, cube_range[1] - .5])\n",
        "ax.set_ylim([cube_range[0] - .5, cube_range[1] - .5])\n",
        "\n",
        "ax.set_xticks(np.arange(cube_range[0], cube_range[1],1)) \n",
        "ax.set_yticks(np.arange(cube_range[0], cube_range[1],1)) \n",
        "\n",
        "ax.xaxis.set_major_formatter(xticks_formatter)\n",
        "ax.yaxis.set_major_formatter(yticks_formatter)\n",
        "\n",
        "ax.grid(True)\n",
        "\n",
        "# ------------------------------------------------------------------------------\n",
        "# EUT Layout\n",
        "gap = patches.Rectangle(np.array(gap_layout[:2]),\n",
        "                        gap_layout[2],\n",
        "                        gap_layout[3],\n",
        "                        linewidth=3,\n",
        "                        edgecolor='g',\n",
        "                        facecolor='none')\n",
        "ax.add_patch(gap)\n",
        "\n",
        "L_layout = [[1, 1.25], [10.75, 1.25], [10.75, 11], [10.25, 11], [10.25, 1.75], [1, 1.75]]\n",
        "L = patches.Polygon(np.array(L_layout),lw=3, ec='w',fc='none')\n",
        "ax.add_patch(L)\n",
        "\n",
        "edge = patches.Rectangle((1,1),10,10,linewidth=3,edgecolor='g',facecolor='none')\n",
        "ax.add_patch(edge)\n",
        "\n",
        "# ==============================================================================  \n",
        "ax = fig.add_subplot(elc_plot_layout[0], elc_plot_layout[1], 2)\n",
        "ax.set_title('global scale')\n",
        "\n",
        "img = ax.imshow(Z, \n",
        "                interpolation ='gaussian', \n",
        "                cmap ='inferno',\n",
        "                vmax = elc_global_scale[0],\n",
        "                vmin = elc_global_scale[1])\n",
        "\n",
        "fig.colorbar(img, ax=ax)\n",
        "\n",
        "ax.set_xlim([cube_range[0] - .5, cube_range[1] - .5])\n",
        "ax.set_ylim([cube_range[0] - .5, cube_range[1] - .5])\n",
        "\n",
        "ax.set_yticks(np.arange(cube_range[0], cube_range[1],1)) \n",
        "ax.set_xticks(np.arange(cube_range[0], cube_range[1],1))\n",
        "\n",
        "ax.xaxis.set_major_formatter(xticks_formatter)\n",
        "ax.yaxis.set_major_formatter(yticks_formatter)\n",
        "\n",
        "ax.grid(True)\n",
        "\n",
        "# ------------------------------------------------------------------------------\n",
        "# EUT Layout\n",
        "gap = patches.Rectangle(np.array(gap_layout[:2]),\n",
        "                        gap_layout[2],\n",
        "                        gap_layout[3],\n",
        "                        linewidth=3,\n",
        "                        edgecolor='g',\n",
        "                        facecolor='none')\n",
        "ax.add_patch(gap)\n",
        "\n",
        "L_layout = [[1, 1.25], [10.75, 1.25], [10.75, 11], [10.25, 11], [10.25, 1.75], [1, 1.75]]\n",
        "L = patches.Polygon(np.array(L_layout),lw=3, ec='w',fc='none')\n",
        "ax.add_patch(L)\n",
        "\n",
        "edge = patches.Rectangle((1,1),10,10,linewidth=3,edgecolor='g',facecolor='none')\n",
        "ax.add_patch(edge)\n",
        "#===============================================================================\n",
        "plt.show()\n"
      ],
      "execution_count": 0,
      "outputs": []
    },
    {
      "cell_type": "markdown",
      "metadata": {
        "colab_type": "text",
        "id": "bS2VlFXgb7lC"
      },
      "source": [
        "---\n",
        "##  Plot 2d: Bottom - 24  MHz  - Elétrico"
      ]
    },
    {
      "cell_type": "code",
      "metadata": {
        "id": "Wcr5YY485v3n",
        "colab_type": "code",
        "colab": {}
      },
      "source": [
        "pd_elc_plane_bottom_24_MHz"
      ],
      "execution_count": 0,
      "outputs": []
    },
    {
      "cell_type": "code",
      "metadata": {
        "id": "QZ8_7zi7mNDr",
        "colab_type": "code",
        "colab": {}
      },
      "source": [
        "Z = elc_plane_bottom_24_MHz"
      ],
      "execution_count": 0,
      "outputs": []
    },
    {
      "cell_type": "code",
      "metadata": {
        "colab_type": "code",
        "id": "ct8FaZgpb7lI",
        "colab": {}
      },
      "source": [
        "Z = Z[elc_cube_range[0]:elc_cube_range[1], elc_cube_range[0]:elc_cube_range[1]]\n",
        "\n",
        "import matplotlib.pyplot as plt\n",
        "import numpy as np\n",
        "\n",
        "# ==============================================================================  \n",
        "fig = plt.figure(figsize=elc_figure_size)\n",
        "\n",
        "# ==============================================================================  \n",
        "ax = fig.add_subplot(elc_plot_layout[0], elc_plot_layout[1], 1)\n",
        "ax.set_title('private scale')\n",
        "\n",
        "img = ax.imshow(Z, \n",
        "                interpolation ='gaussian', \n",
        "                cmap ='inferno',\n",
        "                vmax = elc_private_scale[0],\n",
        "                vmin = elc_private_scale[1])\n",
        "\n",
        "fig.colorbar(img, ax=ax)\n",
        "\n",
        "ax.set_xlim([cube_range[0] - .5, cube_range[1] - .5])\n",
        "ax.set_ylim([cube_range[0] - .5, cube_range[1] - .5])\n",
        "\n",
        "ax.set_xticks(np.arange(cube_range[0], cube_range[1],1)) \n",
        "ax.set_yticks(np.arange(cube_range[0], cube_range[1],1)) \n",
        "\n",
        "ax.xaxis.set_major_formatter(xticks_formatter)\n",
        "ax.yaxis.set_major_formatter(yticks_formatter)\n",
        "\n",
        "ax.grid(True)\n",
        "\n",
        "# ------------------------------------------------------------------------------\n",
        "# EUT Layout\n",
        "gap = patches.Rectangle(np.array(gap_layout[:2]),\n",
        "                        gap_layout[2],\n",
        "                        gap_layout[3],\n",
        "                        linewidth=3,\n",
        "                        edgecolor='g',\n",
        "                        facecolor='none')\n",
        "ax.add_patch(gap)\n",
        "\n",
        "L_layout = [[1, 1.25], [10.75, 1.25], [10.75, 11], [10.25, 11], [10.25, 1.75], [1, 1.75]]\n",
        "L = patches.Polygon(np.array(L_layout),lw=3, ec='w',fc='none')\n",
        "ax.add_patch(L)\n",
        "\n",
        "edge = patches.Rectangle((1,1),10,10,linewidth=3,edgecolor='g',facecolor='none')\n",
        "ax.add_patch(edge)\n",
        "\n",
        "# ==============================================================================  \n",
        "ax = fig.add_subplot(elc_plot_layout[0], elc_plot_layout[1], 2)\n",
        "ax.set_title('global scale')\n",
        "\n",
        "img = ax.imshow(Z, \n",
        "                interpolation ='gaussian', \n",
        "                cmap ='inferno',\n",
        "                vmax = elc_global_scale[0],\n",
        "                vmin = elc_global_scale[1])\n",
        "\n",
        "fig.colorbar(img, ax=ax)\n",
        "\n",
        "ax.set_xlim([cube_range[0] - .5, cube_range[1] - .5])\n",
        "ax.set_ylim([cube_range[0] - .5, cube_range[1] - .5])\n",
        "\n",
        "ax.set_yticks(np.arange(cube_range[0], cube_range[1],1)) \n",
        "ax.set_xticks(np.arange(cube_range[0], cube_range[1],1))\n",
        "\n",
        "ax.xaxis.set_major_formatter(xticks_formatter)\n",
        "ax.yaxis.set_major_formatter(yticks_formatter)\n",
        "\n",
        "ax.grid(True)\n",
        "\n",
        "# ------------------------------------------------------------------------------\n",
        "# EUT Layout\n",
        "gap = patches.Rectangle(np.array(gap_layout[:2]),\n",
        "                        gap_layout[2],\n",
        "                        gap_layout[3],\n",
        "                        linewidth=3,\n",
        "                        edgecolor='g',\n",
        "                        facecolor='none')\n",
        "ax.add_patch(gap)\n",
        "\n",
        "L_layout = [[1, 1.25], [10.75, 1.25], [10.75, 11], [10.25, 11], [10.25, 1.75], [1, 1.75]]\n",
        "L = patches.Polygon(np.array(L_layout),lw=3, ec='w',fc='none')\n",
        "ax.add_patch(L)\n",
        "\n",
        "edge = patches.Rectangle((1,1),10,10,linewidth=3,edgecolor='g',facecolor='none')\n",
        "ax.add_patch(edge)\n",
        "\n",
        "#===============================================================================\n",
        "plt.show()\n"
      ],
      "execution_count": 0,
      "outputs": []
    },
    {
      "cell_type": "markdown",
      "metadata": {
        "colab_type": "text",
        "id": "i9HlvEN4cXOQ"
      },
      "source": [
        "---\n",
        "##  Plot 2d: Top - 24  MHz  - Magnético"
      ]
    },
    {
      "cell_type": "code",
      "metadata": {
        "id": "90FLVc2em66m",
        "colab_type": "code",
        "colab": {}
      },
      "source": [
        "pd_mag_plane_top_24_MHz"
      ],
      "execution_count": 0,
      "outputs": []
    },
    {
      "cell_type": "code",
      "metadata": {
        "id": "dJj3M8InmX7S",
        "colab_type": "code",
        "colab": {}
      },
      "source": [
        "Z = mag_plane_top_24_MHz"
      ],
      "execution_count": 0,
      "outputs": []
    },
    {
      "cell_type": "code",
      "metadata": {
        "colab_type": "code",
        "id": "aDH3mIjNcXOW",
        "colab": {}
      },
      "source": [
        "Z = Z[mag_cube_range[0]:mag_cube_range[1], mag_cube_range[0]:mag_cube_range[1]]\n",
        "\n",
        "import matplotlib.pyplot as plt\n",
        "import numpy as np\n",
        "\n",
        "# ==============================================================================  \n",
        "fig = plt.figure(figsize=mag_figure_size)\n",
        "\n",
        "# ==============================================================================  \n",
        "ax = fig.add_subplot(mag_plot_layout[0], mag_plot_layout[1], 1)\n",
        "ax.set_title('private scale')\n",
        "\n",
        "img = ax.imshow(Z, \n",
        "                interpolation ='gaussian', \n",
        "                cmap ='inferno',\n",
        "                vmax = mag_private_scale[0],\n",
        "                vmin = mag_private_scale[1])\n",
        "\n",
        "fig.colorbar(img, ax=ax)\n",
        "\n",
        "ax.set_xlim([cube_range[0] - .5, cube_range[1] - .5])\n",
        "ax.set_ylim([cube_range[0] - .5, cube_range[1] - .5])\n",
        "\n",
        "ax.set_xticks(np.arange(cube_range[0], cube_range[1],1)) \n",
        "ax.set_yticks(np.arange(cube_range[0], cube_range[1],1)) \n",
        "\n",
        "ax.xaxis.set_major_formatter(xticks_formatter)\n",
        "ax.yaxis.set_major_formatter(yticks_formatter)\n",
        "\n",
        "# ------------------------------------------------------------------------------\n",
        "# EUT Layout\n",
        "gap = patches.Rectangle(np.array(gap_layout[:2]),\n",
        "                        gap_layout[2],\n",
        "                        gap_layout[3],\n",
        "                        linewidth=3,\n",
        "                        edgecolor='g',\n",
        "                        facecolor='none')\n",
        "ax.add_patch(gap)\n",
        "\n",
        "L_layout = [[1, 1.25], [10.75, 1.25], [10.75, 11], [10.25, 11], [10.25, 1.75], [1, 1.75]]\n",
        "L = patches.Polygon(np.array(L_layout),lw=3, ec='w',fc='none')\n",
        "ax.add_patch(L)\n",
        "\n",
        "edge = patches.Rectangle((1,1),10,10,linewidth=3,edgecolor='g',facecolor='none')\n",
        "ax.add_patch(edge)\n",
        "\n",
        "ax.grid(True)\n",
        "\n",
        "# ==============================================================================  \n",
        "ax = fig.add_subplot(mag_plot_layout[0], mag_plot_layout[1], 2)\n",
        "ax.set_title('global scale')\n",
        "\n",
        "img = ax.imshow(Z, \n",
        "                interpolation ='gaussian', \n",
        "                cmap ='inferno',\n",
        "                vmax = mag_global_scale[0],\n",
        "                vmin = mag_global_scale[1])\n",
        "\n",
        "fig.colorbar(img, ax=ax)\n",
        "\n",
        "ax.set_xlim([cube_range[0] - .5, cube_range[1] - .5])\n",
        "ax.set_ylim([cube_range[0] - .5, cube_range[1] - .5])\n",
        "\n",
        "ax.set_yticks(np.arange(cube_range[0], cube_range[1],1)) \n",
        "ax.set_xticks(np.arange(cube_range[0], cube_range[1],1))\n",
        "\n",
        "ax.xaxis.set_major_formatter(xticks_formatter)\n",
        "ax.yaxis.set_major_formatter(yticks_formatter)\n",
        "\n",
        "# ------------------------------------------------------------------------------\n",
        "# EUT Layout\n",
        "gap = patches.Rectangle(np.array(gap_layout[:2]),\n",
        "                        gap_layout[2],\n",
        "                        gap_layout[3],\n",
        "                        linewidth=3,\n",
        "                        edgecolor='g',\n",
        "                        facecolor='none')\n",
        "ax.add_patch(gap)\n",
        "\n",
        "L_layout = [[1, 1.25], [10.75, 1.25], [10.75, 11], [10.25, 11], [10.25, 1.75], [1, 1.75]]\n",
        "L = patches.Polygon(np.array(L_layout),lw=3, ec='w',fc='none')\n",
        "ax.add_patch(L)\n",
        "\n",
        "edge = patches.Rectangle((1,1),10,10,linewidth=3,edgecolor='g',facecolor='none')\n",
        "ax.add_patch(edge)\n",
        "\n",
        "ax.grid(True)\n",
        "\n",
        "#===============================================================================\n",
        "plt.show()\n"
      ],
      "execution_count": 0,
      "outputs": []
    },
    {
      "cell_type": "markdown",
      "metadata": {
        "colab_type": "text",
        "id": "ipXO6f5_cXOn"
      },
      "source": [
        "---\n",
        "##  Plot 2d: Bottom - 24  MHz Magnético"
      ]
    },
    {
      "cell_type": "code",
      "metadata": {
        "colab_type": "code",
        "id": "h7qqnromnG9o",
        "colab": {}
      },
      "source": [
        "pd_mag_plane_bottom_24_MHz"
      ],
      "execution_count": 0,
      "outputs": []
    },
    {
      "cell_type": "code",
      "metadata": {
        "colab_type": "code",
        "id": "_bPeZuDcnG98",
        "colab": {}
      },
      "source": [
        "Z = mag_plane_bottom_24_MHz"
      ],
      "execution_count": 0,
      "outputs": []
    },
    {
      "cell_type": "code",
      "metadata": {
        "colab_type": "code",
        "id": "Mb951tJlcXOr",
        "colab": {}
      },
      "source": [
        "Z = Z[mag_cube_range[0]:mag_cube_range[1], mag_cube_range[0]:mag_cube_range[1]]\n",
        "\n",
        "import matplotlib.pyplot as plt\n",
        "import numpy as np\n",
        "\n",
        "# ==============================================================================  \n",
        "fig = plt.figure(figsize=mag_figure_size)\n",
        "\n",
        "# ==============================================================================  \n",
        "ax = fig.add_subplot(mag_plot_layout[0], mag_plot_layout[1], 1)\n",
        "ax.set_title('private scale')\n",
        "\n",
        "img = ax.imshow(Z, \n",
        "                interpolation ='gaussian', \n",
        "                cmap ='inferno',\n",
        "                vmax = mag_private_scale[0],\n",
        "                vmin = mag_private_scale[1])\n",
        "\n",
        "fig.colorbar(img, ax=ax)\n",
        "\n",
        "ax.set_xlim([cube_range[0] - .5, cube_range[1] - .5])\n",
        "ax.set_ylim([cube_range[0] - .5, cube_range[1] - .5])\n",
        "\n",
        "ax.set_xticks(np.arange(cube_range[0], cube_range[1],1)) \n",
        "ax.set_yticks(np.arange(cube_range[0], cube_range[1],1)) \n",
        "\n",
        "ax.xaxis.set_major_formatter(xticks_formatter)\n",
        "ax.yaxis.set_major_formatter(yticks_formatter)\n",
        "\n",
        "ax.grid(True)\n",
        "\n",
        "# ------------------------------------------------------------------------------\n",
        "# EUT Layout\n",
        "gap = patches.Rectangle(np.array(gap_layout[:2]),\n",
        "                        gap_layout[2],\n",
        "                        gap_layout[3],\n",
        "                        linewidth=3,\n",
        "                        edgecolor='g',\n",
        "                        facecolor='none')\n",
        "ax.add_patch(gap)\n",
        "\n",
        "L_layout = [[1, 1.25], [10.75, 1.25], [10.75, 11], [10.25, 11], [10.25, 1.75], [1, 1.75]]\n",
        "L = patches.Polygon(np.array(L_layout),lw=3, ec='w',fc='none')\n",
        "ax.add_patch(L)\n",
        "\n",
        "edge = patches.Rectangle((1,1),10,10,linewidth=3,edgecolor='g',facecolor='none')\n",
        "ax.add_patch(edge)\n",
        "\n",
        "# ==============================================================================  \n",
        "ax = fig.add_subplot(mag_plot_layout[0], mag_plot_layout[1], 2)\n",
        "ax.set_title('global scale')\n",
        "\n",
        "img = ax.imshow(Z, \n",
        "                interpolation ='gaussian', \n",
        "                cmap ='inferno',\n",
        "                vmax = mag_global_scale[0],\n",
        "                vmin = mag_global_scale[1])\n",
        "\n",
        "fig.colorbar(img, ax=ax)\n",
        "\n",
        "ax.set_xlim([cube_range[0] - .5, cube_range[1] - .5])\n",
        "ax.set_ylim([cube_range[0] - .5, cube_range[1] - .5])\n",
        "\n",
        "ax.set_yticks(np.arange(cube_range[0], cube_range[1],1)) \n",
        "ax.set_xticks(np.arange(cube_range[0], cube_range[1],1))\n",
        "\n",
        "ax.xaxis.set_major_formatter(xticks_formatter)\n",
        "ax.yaxis.set_major_formatter(yticks_formatter)\n",
        "\n",
        "ax.grid(True)\n",
        "\n",
        "# ------------------------------------------------------------------------------\n",
        "# EUT Layout\n",
        "gap = patches.Rectangle(np.array(gap_layout[:2]),\n",
        "                        gap_layout[2],\n",
        "                        gap_layout[3],\n",
        "                        linewidth=3,\n",
        "                        edgecolor='g',\n",
        "                        facecolor='none')\n",
        "ax.add_patch(gap)\n",
        "\n",
        "L_layout = [[1, 1.25], [10.75, 1.25], [10.75, 11], [10.25, 11], [10.25, 1.75], [1, 1.75]]\n",
        "L = patches.Polygon(np.array(L_layout),lw=3, ec='w',fc='none')\n",
        "ax.add_patch(L)\n",
        "\n",
        "edge = patches.Rectangle((1,1),10,10,linewidth=3,edgecolor='g',facecolor='none')\n",
        "ax.add_patch(edge)\n",
        "\n",
        "#===============================================================================\n",
        "plt.show()\n"
      ],
      "execution_count": 0,
      "outputs": []
    }
  ]
}