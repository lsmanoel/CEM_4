{
  "nbformat": 4,
  "nbformat_minor": 0,
  "metadata": {
    "colab": {
      "name": "open_matrix_csv.ipynb",
      "version": "0.3.2",
      "provenance": [],
      "collapsed_sections": []
    },
    "kernelspec": {
      "name": "python3",
      "display_name": "Python 3"
    }
  },
  "cells": [
    {
      "cell_type": "code",
      "metadata": {
        "id": "ML0iOyvjxFik",
        "colab_type": "code",
        "colab": {}
      },
      "source": [
        "import pandas as pd\n",
        "\n",
        "url_elc_plane_bottom_24_MHz = 'https://raw.githubusercontent.com/lsmanoel/CEM_4/master/13.06/placaL_medidas%20-%20%20plane_bottom_24_MHz.csv'\n",
        "url_elc_plane_bottom_500_KHz = 'https://raw.githubusercontent.com/lsmanoel/CEM_4/master/13.06/placaL_medidas%20-%20plane_bottom_500_KHz.csv'\n",
        "url_elc_plane_top_24_MHz = 'https://raw.githubusercontent.com/lsmanoel/CEM_4/master/13.06/placaL_medidas%20-%20plane_top_24_MHz.csv'\n",
        "url_elc_plane_top_500_KHz = 'https://raw.githubusercontent.com/lsmanoel/CEM_4/master/13.06/placaL_medidas%20-%20plane_top_500_KHz.csv'\n",
        "url_mag_plane_bottom_24_MHz = 'https://raw.githubusercontent.com/lsmanoel/CEM_4/master/13.06/placaL_medidas%20-%20mag_plane_bottom_24_MHz.csv'\n",
        "url_mag_plane_top_24_MHz = 'https://raw.githubusercontent.com/lsmanoel/CEM_4/master/13.06/placaL_medidas%20-%20mag_plane_top_24_MHz.csv'\n",
        "\n",
        "pd_elc_plane_bottom_24_MHz = pd.read_csv(url_elc_plane_bottom_24_MHz)\n",
        "pd_elc_plane_bottom_500_KHz = pd.read_csv(url_elc_plane_bottom_500_KHz)\n",
        "pd_elc_plane_top_24_MHz = pd.read_csv(url_elc_plane_top_24_MHz)\n",
        "pd_elc_plane_top_500_KHz = pd.read_csv(url_elc_plane_top_500_KHz)\n",
        "pd_mag_plane_bottom_24_MHz = pd.read_csv(url_mag_plane_bottom_24_MHz)\n",
        "pd_mag_plane_top_24_MHz = pd.read_csv(url_mag_plane_top_24_MHz)\n",
        "\n",
        "elc_plane_bottom_24_MHz = pd_elc_plane_bottom_24_MHz.values\n",
        "elc_plane_bottom_500_KHz = pd_elc_plane_bottom_500_KHz.values\n",
        "elc_plane_top_24_MHz = pd_elc_plane_top_24_MHz.values\n",
        "elc_plane_top_500_KHz = pd_elc_plane_top_500_KHz.values\n",
        "mag_plane_bottom_24_MHz = pd_mag_plane_bottom_24_MHz.values\n",
        "mag_plane_top_24_MHz = pd_mag_plane_top_24_MHz.values\n",
        "\n",
        "elc_plane_bottom_24_MHz = -elc_plane_bottom_24_MHz\n",
        "elc_plane_bottom_500_KHz = -elc_plane_bottom_500_KHz\n",
        "elc_plane_top_24_MHz = -elc_plane_top_24_MHz\n",
        "elc_plane_top_500_KHz = -elc_plane_top_500_KHz\n",
        "mag_plane_bottom_24_MHz = -mag_plane_bottom_24_MHz\n",
        "mag_plane_top_24_MHz = -mag_plane_top_24_MHz"
      ],
      "execution_count": 0,
      "outputs": []
    },
    {
      "cell_type": "code",
      "metadata": {
        "id": "TkJrgQs_27uo",
        "colab_type": "code",
        "colab": {
          "base_uri": "https://localhost:8080/",
          "height": 515
        },
        "outputId": "b82f8495-865f-4f10-f744-71d98bbd50f3"
      },
      "source": [
        "import matplotlib.pyplot as plt\n",
        "\n",
        "plt.figure(figsize=(9,9))\n",
        "plt.imshow(mag_plane_bottom_24_MHz, cmap='inferno')\n",
        "plt.grid(False)\n",
        "\n",
        "plt.show()"
      ],
      "execution_count": 24,
      "outputs": [
        {
          "output_type": "display_data",
          "data": {
            "image/png": "[encoded data removed]",
            "text/plain": [
              "<Figure size 648x648 with 1 Axes>"
            ]
          },
          "metadata": {
            "tags": []
          }
        }
      ]
    },
    {
      "cell_type": "code",
      "metadata": {
        "id": "wKrXaJN44T4F",
        "colab_type": "code",
        "colab": {}
      },
      "source": [
        ""
      ],
      "execution_count": 0,
      "outputs": []
    }
  ]
}